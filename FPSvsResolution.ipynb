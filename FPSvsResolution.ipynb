{
 "cells": [
  {
   "cell_type": "code",
   "execution_count": 6,
   "metadata": {},
   "outputs": [],
   "source": [
    "import cv2, imutils, time, dlib\n",
    "import numpy as np\n",
    "import matplotlib.pyplot as plt\n",
    "from imutils import face_utils\n",
    "from PIL import Image\n",
    "import os \n",
    "\n",
    "from utils2 import *\n",
    "\n",
    "from utils.anchor_generator import generate_anchors\n",
    "from utils.anchor_decode import decode_bbox\n",
    "from utils.nms import single_class_non_max_suppression\n",
    "\n",
    "from load_model.tensorflow_loader import load_tf_model, tf_inference\n",
    "\n",
    "from tool.utils import *\n",
    "from tool.torch_utils import *\n",
    "from tool.darknet2pytorch import Darknet"
   ]
  },
  {
   "cell_type": "code",
   "execution_count": 7,
   "metadata": {},
   "outputs": [],
   "source": [
    "wgt5  = \"shape_predictor_5_face_landmarks.dat\"\n",
    "wgt68 = \"shape_predictor_68_face_landmarks.dat\"\n",
    "face_cascade = cv2.CascadeClassifier('haarcascade_frontalface_default.xml')\n",
    "img = cv2.imread(\"test.jpg\")\n",
    "#cv2.imshow(\"\",img)\n",
    "#cv2.waitKey(0)"
   ]
  },
  {
   "cell_type": "code",
   "execution_count": 8,
   "metadata": {},
   "outputs": [
    {
     "name": "stdout",
     "output_type": "stream",
     "text": [
      "2.6387641429901123\n"
     ]
    }
   ],
   "source": [
    "#HaarCascades Detection\n",
    "#Input: grayscale image\n",
    "#Output: prediction time\n",
    "\n",
    "gray = cv2.cvtColor(img, cv2.COLOR_BGR2GRAY)\n",
    "\n",
    "def HaarPredict(gray):\n",
    "    START = time.time()\n",
    "    faces = face_cascade.detectMultiScale(gray, 1.3, 5)\n",
    "    END = time.time()\n",
    "    return END-START\n",
    "    \n",
    "print(HaarPredict(gray))"
   ]
  },
  {
   "cell_type": "code",
   "execution_count": 11,
   "metadata": {},
   "outputs": [
    {
     "name": "stdout",
     "output_type": "stream",
     "text": [
      "0.12412428855895996\n"
     ]
    }
   ],
   "source": [
    "#Dlib Detection, NOTE DLIB RESIZES IMAGE TO 640x480\n",
    "#Input: grayscale image\n",
    "#Output: prediction time\n",
    "gray = cv2.cvtColor(img, cv2.COLOR_BGR2GRAY)\n",
    "\n",
    "def hog_landmarks(image, gray, wgt):\n",
    "    predictor = dlib.shape_predictor(wgt)\n",
    "    h, w, _ = image.shape\n",
    "    img = cv2.cvtColor(image, cv2.COLOR_BGR2RGB) \n",
    "    img = cv2.resize(img, (640, 480)) # RESIZE!!!\n",
    "    \n",
    "    img_mean = np.array([127, 127, 127])\n",
    "    img = (img - img_mean) / 128\n",
    "    img = np.transpose(img, [2, 0, 1])\n",
    "    img = np.expand_dims(img, axis=0)\n",
    "    img = img.astype(np.float32)\n",
    "    START = time.time()\n",
    "    face = dlib.rectangle(left=0, top=0, right=w, bottom=h) \n",
    "    shape = predictor(gray, face)\n",
    "    shape = face_utils.shape_to_np(shape)\n",
    "    END = time.time()\n",
    "    #print(shape)\n",
    "    return(END-START)\n",
    "\n",
    "print(hog_landmarks(img, gray, wgt68))"
   ]
  },
  {
   "cell_type": "code",
   "execution_count": 12,
   "metadata": {},
   "outputs": [
    {
     "name": "stdout",
     "output_type": "stream",
     "text": [
      "Width, Height 416 416\n"
     ]
    },
    {
     "data": {
      "text/plain": [
       "1.5583202838897705"
      ]
     },
     "execution_count": 12,
     "metadata": {},
     "output_type": "execute_result"
    }
   ],
   "source": [
    "#yolo, NOTE YOLO RESIZES IMAGE TO 640x480\n",
    "#Input: grayscale image\n",
    "#Output: prediction time\n",
    "cfg = 'yolov3-face.cfg'\n",
    "wgt = 'yolov3-wider_16000.weights'\n",
    "net = cv2.dnn.readNetFromDarknet(cfg, wgt)\n",
    "net.setPreferableBackend(cv2.dnn.DNN_BACKEND_OPENCV)\n",
    "net.setPreferableTarget(cv2.dnn.DNN_TARGET_CPU)\n",
    "\n",
    "def yolo(img):\n",
    "    START = time.time()\n",
    "    hh, ww, channels = img.shape\n",
    "    blob = cv2.dnn.blobFromImage(img, 1 / 255, (IMG_WIDTH,IMG_HEIGHT), [0, 0, 0], 1, crop=False) # RESIZE!!!\n",
    "    print(\"Width, Height\", IMG_WIDTH, IMG_HEIGHT)\n",
    "    net.setInput(blob)\n",
    "    outs = net.forward(get_outputs_names(net))\n",
    "    faces, imageList, pixelList = post_process(img, outs, CONF_THRESHOLD, NMS_THRESHOLD)\n",
    "    END = time.time()\n",
    "    return END-START\n",
    "  \n",
    "yolo(img)"
   ]
  },
  {
   "cell_type": "code",
   "execution_count": 13,
   "metadata": {},
   "outputs": [
    {
     "data": {
      "text/plain": [
       "True"
      ]
     },
     "execution_count": 13,
     "metadata": {},
     "output_type": "execute_result"
    }
   ],
   "source": [
    "#Reduce image quality through JPEG compression (colors \"blended\")\n",
    "def compressMe(verbose = False):  \n",
    "    picture = Image.open(\"test.jpg\") \n",
    "    picture.save(\"temp.jpg\", \"JPEG\", optimize = True,  quality = 10) \n",
    "                 \n",
    "compressMe()\n",
    "\n",
    "#Reduce image quality through resizing\n",
    "out = imutils.resize(img, width = 200)\n",
    "cv2.imwrite(\"temp2.jpg\", out)\n",
    "out2 = imutils.resize(out, width = 4150)\n",
    "cv2.imwrite(\"temp3.jpg\", out)"
   ]
  },
  {
   "cell_type": "code",
   "execution_count": 14,
   "metadata": {},
   "outputs": [
    {
     "name": "stdout",
     "output_type": "stream",
     "text": [
      "5\n",
      "0\n",
      "Width, Height 416 416\n",
      "1\n"
     ]
    },
    {
     "ename": "KeyboardInterrupt",
     "evalue": "",
     "output_type": "error",
     "traceback": [
      "\u001b[0;31m---------------------------------------------------------------------------\u001b[0m",
      "\u001b[0;31mKeyboardInterrupt\u001b[0m                         Traceback (most recent call last)",
      "\u001b[0;32m<ipython-input-14-1aa1c2761ed6>\u001b[0m in \u001b[0;36m<module>\u001b[0;34m\u001b[0m\n\u001b[1;32m     27\u001b[0m         \u001b[0mprint\u001b[0m\u001b[0;34m(\u001b[0m\u001b[0mj\u001b[0m\u001b[0;34m)\u001b[0m\u001b[0;34m\u001b[0m\u001b[0;34m\u001b[0m\u001b[0m\n\u001b[1;32m     28\u001b[0m         \u001b[0mHAARtime\u001b[0m \u001b[0;34m+=\u001b[0m \u001b[0mHaarPredict\u001b[0m\u001b[0;34m(\u001b[0m\u001b[0mgray\u001b[0m\u001b[0;34m)\u001b[0m\u001b[0;34m\u001b[0m\u001b[0;34m\u001b[0m\u001b[0m\n\u001b[0;32m---> 29\u001b[0;31m         \u001b[0mdlib5time\u001b[0m \u001b[0;34m+=\u001b[0m \u001b[0mhog_landmarks\u001b[0m\u001b[0;34m(\u001b[0m\u001b[0mimage\u001b[0m\u001b[0;34m,\u001b[0m \u001b[0mgray\u001b[0m\u001b[0;34m,\u001b[0m \u001b[0mwgt5\u001b[0m\u001b[0;34m)\u001b[0m\u001b[0;34m\u001b[0m\u001b[0;34m\u001b[0m\u001b[0m\n\u001b[0m\u001b[1;32m     30\u001b[0m         \u001b[0mdlib68time\u001b[0m \u001b[0;34m+=\u001b[0m \u001b[0mhog_landmarks\u001b[0m\u001b[0;34m(\u001b[0m\u001b[0mimage\u001b[0m\u001b[0;34m,\u001b[0m \u001b[0mgray\u001b[0m\u001b[0;34m,\u001b[0m \u001b[0mwgt68\u001b[0m\u001b[0;34m)\u001b[0m\u001b[0;34m\u001b[0m\u001b[0;34m\u001b[0m\u001b[0m\n\u001b[1;32m     31\u001b[0m         \u001b[0myolotime\u001b[0m \u001b[0;34m+=\u001b[0m \u001b[0myolo\u001b[0m\u001b[0;34m(\u001b[0m\u001b[0mimage\u001b[0m\u001b[0;34m)\u001b[0m\u001b[0;34m\u001b[0m\u001b[0;34m\u001b[0m\u001b[0m\n",
      "\u001b[0;32m<ipython-input-11-7070fc389198>\u001b[0m in \u001b[0;36mhog_landmarks\u001b[0;34m(image, gray, wgt)\u001b[0m\n\u001b[1;32m      5\u001b[0m \u001b[0;34m\u001b[0m\u001b[0m\n\u001b[1;32m      6\u001b[0m \u001b[0;32mdef\u001b[0m \u001b[0mhog_landmarks\u001b[0m\u001b[0;34m(\u001b[0m\u001b[0mimage\u001b[0m\u001b[0;34m,\u001b[0m \u001b[0mgray\u001b[0m\u001b[0;34m,\u001b[0m \u001b[0mwgt\u001b[0m\u001b[0;34m)\u001b[0m\u001b[0;34m:\u001b[0m\u001b[0;34m\u001b[0m\u001b[0;34m\u001b[0m\u001b[0m\n\u001b[0;32m----> 7\u001b[0;31m     \u001b[0mpredictor\u001b[0m \u001b[0;34m=\u001b[0m \u001b[0mdlib\u001b[0m\u001b[0;34m.\u001b[0m\u001b[0mshape_predictor\u001b[0m\u001b[0;34m(\u001b[0m\u001b[0mwgt\u001b[0m\u001b[0;34m)\u001b[0m\u001b[0;34m\u001b[0m\u001b[0;34m\u001b[0m\u001b[0m\n\u001b[0m\u001b[1;32m      8\u001b[0m     \u001b[0mh\u001b[0m\u001b[0;34m,\u001b[0m \u001b[0mw\u001b[0m\u001b[0;34m,\u001b[0m \u001b[0m_\u001b[0m \u001b[0;34m=\u001b[0m \u001b[0mimage\u001b[0m\u001b[0;34m.\u001b[0m\u001b[0mshape\u001b[0m\u001b[0;34m\u001b[0m\u001b[0;34m\u001b[0m\u001b[0m\n\u001b[1;32m      9\u001b[0m     \u001b[0mimg\u001b[0m \u001b[0;34m=\u001b[0m \u001b[0mcv2\u001b[0m\u001b[0;34m.\u001b[0m\u001b[0mcvtColor\u001b[0m\u001b[0;34m(\u001b[0m\u001b[0mimage\u001b[0m\u001b[0;34m,\u001b[0m \u001b[0mcv2\u001b[0m\u001b[0;34m.\u001b[0m\u001b[0mCOLOR_BGR2RGB\u001b[0m\u001b[0;34m)\u001b[0m\u001b[0;34m\u001b[0m\u001b[0;34m\u001b[0m\u001b[0m\n",
      "\u001b[0;31mKeyboardInterrupt\u001b[0m: "
     ]
    }
   ],
   "source": [
    "#Full Code for Reducing Image Resolution Through JPEG Compression\n",
    "\n",
    "Compression = []\n",
    "Cdlib5 = []\n",
    "Cdlib68 = []\n",
    "Cyolo = []\n",
    "Chaar = []\n",
    "\n",
    "NUM_IMAGES = 20\n",
    "\n",
    "#Merge \n",
    "for i in range (5,100,10):\n",
    "    print(i)\n",
    "    picture = Image.open(\"test.jpg\")\n",
    "    picture.save(\"temp.jpg\", \"JPEG\", optimize = True,  quality = i) \n",
    "    image = cv2.imread(\"temp.jpg\")\n",
    "    image = imutils.resize(image, width= 500)\n",
    "    \n",
    "    gray = cv2.cvtColor(image, cv2.COLOR_BGR2GRAY)\n",
    "    \n",
    "    HAARtime = 0\n",
    "    dlib5time = 0\n",
    "    dlib68time = 0\n",
    "    yolotime = 0\n",
    "    \n",
    "    for j in range (0, NUM_IMAGES):\n",
    "        print(j)\n",
    "        HAARtime += HaarPredict(gray)\n",
    "        dlib5time += hog_landmarks(image, gray, wgt5)\n",
    "        dlib68time += hog_landmarks(image, gray, wgt68)\n",
    "        yolotime += yolo(image)\n",
    "    \n",
    "    Compression.append(i)\n",
    "    Cdlib5.append(NUM_IMAGES/dlib5time)\n",
    "    Cdlib68.append(NUM_IMAGES/dlib68time)\n",
    "    Cyolo.append(NUM_IMAGES/yolotime)\n",
    "    Chaar.append(NUM_IMAGES/HAARtime)"
   ]
  },
  {
   "cell_type": "code",
   "execution_count": 15,
   "metadata": {},
   "outputs": [
    {
     "name": "stdout",
     "output_type": "stream",
     "text": [
      "200\n",
      "0\n",
      "1\n",
      "2\n",
      "3\n",
      "4\n",
      "5\n",
      "6\n",
      "7\n",
      "8\n",
      "9\n",
      "10\n",
      "11\n",
      "12\n",
      "13\n",
      "14\n",
      "15\n",
      "16\n",
      "17\n",
      "18\n",
      "19\n",
      "300\n",
      "0\n",
      "1\n",
      "2\n",
      "3\n",
      "4\n",
      "5\n",
      "6\n",
      "7\n",
      "8\n",
      "9\n",
      "10\n",
      "11\n",
      "12\n",
      "13\n",
      "14\n",
      "15\n",
      "16\n",
      "17\n",
      "18\n",
      "19\n",
      "400\n",
      "0\n",
      "1\n",
      "2\n",
      "3\n",
      "4\n",
      "5\n",
      "6\n",
      "7\n",
      "8\n",
      "9\n",
      "10\n",
      "11\n",
      "12\n",
      "13\n",
      "14\n",
      "15\n",
      "16\n",
      "17\n",
      "18\n",
      "19\n",
      "500\n",
      "0\n",
      "1\n",
      "2\n",
      "3\n",
      "4\n",
      "5\n",
      "6\n",
      "7\n",
      "8\n",
      "9\n",
      "10\n",
      "11\n",
      "12\n",
      "13\n",
      "14\n",
      "15\n",
      "16\n",
      "17\n",
      "18\n",
      "19\n",
      "600\n",
      "0\n",
      "1\n",
      "2\n",
      "3\n",
      "4\n",
      "5\n",
      "6\n",
      "7\n",
      "8\n",
      "9\n",
      "10\n",
      "11\n",
      "12\n",
      "13\n",
      "14\n",
      "15\n",
      "16\n",
      "17\n",
      "18\n",
      "19\n",
      "700\n",
      "0\n",
      "1\n",
      "2\n",
      "3\n",
      "4\n",
      "5\n",
      "6\n",
      "7\n",
      "8\n",
      "9\n",
      "10\n",
      "11\n",
      "12\n",
      "13\n",
      "14\n",
      "15\n",
      "16\n",
      "17\n",
      "18\n",
      "19\n",
      "800\n",
      "0\n",
      "1\n",
      "2\n",
      "3\n",
      "4\n",
      "5\n",
      "6\n",
      "7\n",
      "8\n",
      "9\n",
      "10\n",
      "11\n",
      "12\n",
      "13\n",
      "14\n",
      "15\n",
      "16\n",
      "17\n",
      "18\n",
      "19\n",
      "900\n",
      "0\n",
      "1\n",
      "2\n",
      "3\n",
      "4\n",
      "5\n",
      "6\n",
      "7\n",
      "8\n",
      "9\n",
      "10\n",
      "11\n",
      "12\n",
      "13\n",
      "14\n",
      "15\n",
      "16\n",
      "17\n",
      "18\n",
      "19\n",
      "1000\n",
      "0\n",
      "1\n",
      "2\n",
      "3\n",
      "4\n",
      "5\n",
      "6\n",
      "7\n",
      "8\n",
      "9\n",
      "10\n",
      "11\n",
      "12\n",
      "13\n"
     ]
    },
    {
     "ename": "KeyboardInterrupt",
     "evalue": "",
     "output_type": "error",
     "traceback": [
      "\u001b[0;31m---------------------------------------------------------------------------\u001b[0m",
      "\u001b[0;31mKeyboardInterrupt\u001b[0m                         Traceback (most recent call last)",
      "\u001b[0;32m<ipython-input-15-2454b6d34f10>\u001b[0m in \u001b[0;36m<module>\u001b[0;34m\u001b[0m\n\u001b[1;32m     23\u001b[0m     \u001b[0;32mfor\u001b[0m \u001b[0mj\u001b[0m \u001b[0;32min\u001b[0m \u001b[0mrange\u001b[0m \u001b[0;34m(\u001b[0m\u001b[0;36m0\u001b[0m\u001b[0;34m,\u001b[0m \u001b[0mNUM_IMAGES\u001b[0m\u001b[0;34m)\u001b[0m\u001b[0;34m:\u001b[0m\u001b[0;34m\u001b[0m\u001b[0;34m\u001b[0m\u001b[0m\n\u001b[1;32m     24\u001b[0m         \u001b[0mprint\u001b[0m\u001b[0;34m(\u001b[0m\u001b[0mj\u001b[0m\u001b[0;34m)\u001b[0m\u001b[0;34m\u001b[0m\u001b[0;34m\u001b[0m\u001b[0m\n\u001b[0;32m---> 25\u001b[0;31m         \u001b[0mHAARtime\u001b[0m \u001b[0;34m+=\u001b[0m \u001b[0mHaarPredict\u001b[0m\u001b[0;34m(\u001b[0m\u001b[0mgray\u001b[0m\u001b[0;34m)\u001b[0m\u001b[0;34m\u001b[0m\u001b[0;34m\u001b[0m\u001b[0m\n\u001b[0m\u001b[1;32m     26\u001b[0m \u001b[0;34m\u001b[0m\u001b[0m\n\u001b[1;32m     27\u001b[0m     \u001b[0mResized\u001b[0m\u001b[0;34m.\u001b[0m\u001b[0mappend\u001b[0m\u001b[0;34m(\u001b[0m\u001b[0mi\u001b[0m\u001b[0;34m)\u001b[0m\u001b[0;34m\u001b[0m\u001b[0;34m\u001b[0m\u001b[0m\n",
      "\u001b[0;32m<ipython-input-8-2d9aee3f58bb>\u001b[0m in \u001b[0;36mHaarPredict\u001b[0;34m(gray)\u001b[0m\n\u001b[1;32m      7\u001b[0m \u001b[0;32mdef\u001b[0m \u001b[0mHaarPredict\u001b[0m\u001b[0;34m(\u001b[0m\u001b[0mgray\u001b[0m\u001b[0;34m)\u001b[0m\u001b[0;34m:\u001b[0m\u001b[0;34m\u001b[0m\u001b[0;34m\u001b[0m\u001b[0m\n\u001b[1;32m      8\u001b[0m     \u001b[0mSTART\u001b[0m \u001b[0;34m=\u001b[0m \u001b[0mtime\u001b[0m\u001b[0;34m.\u001b[0m\u001b[0mtime\u001b[0m\u001b[0;34m(\u001b[0m\u001b[0;34m)\u001b[0m\u001b[0;34m\u001b[0m\u001b[0;34m\u001b[0m\u001b[0m\n\u001b[0;32m----> 9\u001b[0;31m     \u001b[0mfaces\u001b[0m \u001b[0;34m=\u001b[0m \u001b[0mface_cascade\u001b[0m\u001b[0;34m.\u001b[0m\u001b[0mdetectMultiScale\u001b[0m\u001b[0;34m(\u001b[0m\u001b[0mgray\u001b[0m\u001b[0;34m,\u001b[0m \u001b[0;36m1.3\u001b[0m\u001b[0;34m,\u001b[0m \u001b[0;36m5\u001b[0m\u001b[0;34m)\u001b[0m\u001b[0;34m\u001b[0m\u001b[0;34m\u001b[0m\u001b[0m\n\u001b[0m\u001b[1;32m     10\u001b[0m     \u001b[0mEND\u001b[0m \u001b[0;34m=\u001b[0m \u001b[0mtime\u001b[0m\u001b[0;34m.\u001b[0m\u001b[0mtime\u001b[0m\u001b[0;34m(\u001b[0m\u001b[0;34m)\u001b[0m\u001b[0;34m\u001b[0m\u001b[0;34m\u001b[0m\u001b[0m\n\u001b[1;32m     11\u001b[0m     \u001b[0;32mreturn\u001b[0m \u001b[0mEND\u001b[0m\u001b[0;34m-\u001b[0m\u001b[0mSTART\u001b[0m\u001b[0;34m\u001b[0m\u001b[0;34m\u001b[0m\u001b[0m\n",
      "\u001b[0;31mKeyboardInterrupt\u001b[0m: "
     ]
    }
   ],
   "source": [
    "#Full Code for Reducing Image Resolution Through Reducing Size\n",
    "\n",
    "Resized = []\n",
    "Rdlib5 = []\n",
    "Rdlib68 = []\n",
    "Ryolo = []\n",
    "Rhaar = []\n",
    "\n",
    "#Resize\n",
    "for i in range (200,4100,100):\n",
    "    print(i)\n",
    "    base = cv2.imread(\"test.jpg\")\n",
    "    imagee = imutils.resize(base, width = i)\n",
    "    #cv2.imwrite(\"temp.jpg\", imagee)\n",
    "    #image = cv2.imread(\"temp.jpg\")\n",
    "    gray = cv2.cvtColor(imagee, cv2.COLOR_BGR2GRAY)\n",
    "    \n",
    "    HAARtime = 0\n",
    "    dlib5time = 0\n",
    "    dlib68time = 0\n",
    "    yolotime = 0\n",
    "    \n",
    "    for j in range (0, NUM_IMAGES):\n",
    "        print(j)\n",
    "        HAARtime += HaarPredict(gray)\n",
    "    \n",
    "    Resized.append(i)\n",
    "    Rhaar.append(NUM_IMAGES/HAARtime)"
   ]
  },
  {
   "cell_type": "code",
   "execution_count": 161,
   "metadata": {},
   "outputs": [
    {
     "data": {
      "text/plain": [
       "128.82876905876427"
      ]
     },
     "execution_count": 161,
     "metadata": {},
     "output_type": "execute_result"
    }
   ],
   "source": [
    "Cdlib68.pop(len(Cdlib68)-1)"
   ]
  },
  {
   "cell_type": "code",
   "execution_count": 165,
   "metadata": {},
   "outputs": [
    {
     "data": {
      "image/png": "[encoded data removed]",
      "text/plain": [
       "<Figure size 720x576 with 1 Axes>"
      ]
     },
     "metadata": {
      "needs_background": "light"
     },
     "output_type": "display_data"
    }
   ],
   "source": [
    "#Graph\n",
    "plt.figure(figsize=(10,8))\n",
    "\n",
    "plt.plot(Compression, Cyolo, '-o',label='YoloV3', markersize = 5)\n",
    "plt.plot(Compression, Chaar, '-o',label='HaarCascades', markersize = 5)\n",
    "plt.plot(Compression, Cdlib5, '-o', label='Dlib-5', markersize = 5)\n",
    "plt.plot(Compression, Cdlib68, '-o', label='Dlib-68', markersize = 5)\n",
    "\n",
    "plt.title('Merging Pixels Through Compression (Same Size)')\n",
    "plt.legend(loc='upper right')\n",
    "plt.xlabel('Compression (%)')\n",
    "plt.ylabel('FPS')\n",
    "\n",
    "plt.show()"
   ]
  },
  {
   "cell_type": "code",
   "execution_count": 163,
   "metadata": {},
   "outputs": [
    {
     "data": {
      "image/png": "[encoded data removed]",
      "text/plain": [
       "<Figure size 720x576 with 1 Axes>"
      ]
     },
     "metadata": {
      "needs_background": "light"
     },
     "output_type": "display_data"
    }
   ],
   "source": [
    "plt.figure(figsize=(10,8))\n",
    "\n",
    "plt.plot(Compression, Cdlib5, '-o', label='Dlib-5', markersize = 5)\n",
    "plt.plot(Compression, Cdlib68, '-o', label='Dlib-68', markersize = 5)\n",
    "\n",
    "plt.title('Merging Pixels Through Compression (Same Size)')\n",
    "plt.legend(loc='upper right')\n",
    "plt.xlabel('Compression (%)')\n",
    "plt.ylabel('FPS')\n",
    "\n",
    "plt.show()"
   ]
  },
  {
   "cell_type": "code",
   "execution_count": 189,
   "metadata": {},
   "outputs": [
    {
     "data": {
      "image/png": "[encoded data removed]",
      "text/plain": [
       "<Figure size 720x576 with 1 Axes>"
      ]
     },
     "metadata": {
      "needs_background": "light"
     },
     "output_type": "display_data"
    }
   ],
   "source": [
    "#Graph\n",
    "plt.figure(figsize=(10,8))\n",
    "\n",
    "#plt.plot(Resized, Ryolo, '-o',label='YoloV3', markersize = 5)\n",
    "plt.plot(Resized, Rhaar, '-o',label='HaarCascades', markersize = 5)\n",
    "\n",
    "plt.title('Merging Pixels Through Resizing (Varying Size)')\n",
    "plt.legend(loc='upper right')\n",
    "plt.xlabel('Width (pixels)')\n",
    "plt.ylabel('FPS')\n",
    "\n",
    "plt.show()"
   ]
  },
  {
   "cell_type": "code",
   "execution_count": null,
   "metadata": {},
   "outputs": [],
   "source": [
    "'''\n",
    "#Original\n",
    "base = cv2.imread(\"test.jpg\")\n",
    "gray = cv2.cvtColor(image, cv2.COLOR_BGR2GRAY)\n",
    "for j in range (0, NUM_IMAGES):\n",
    "    HAARtime += HaarPredict(gray)\n",
    "    dlib5time += hog_landmarks(base, gray, wgt5)\n",
    "    dlib68time += hog_landmarks(base, gray, wgt68)\n",
    "    yolotime += yolo(base)\n",
    "    \n",
    "Compression.append(100)\n",
    "Cdlib5.append(NUM_IMAGES/dlib5time)\n",
    "Cdlib68.append(NUM_IMAGES/dlib68time)\n",
    "Cyolo.append(NUM_IMAGES/yolotime)\n",
    "Chaar.append(NUM_IMAGES/HAARtime)\n",
    "\n",
    "#Original\n",
    "base = cv2.imread(\"test.jpg\")\n",
    "gray = cv2.cvtColor(image, cv2.COLOR_BGR2GRAY)\n",
    "for j in range (0, NUM_IMAGES):\n",
    "    HAARtime += HaarPredict(gray)\n",
    "    dlib5time += hog_landmarks(base, gray, wgt5)\n",
    "    dlib68time += hog_landmarks(base, gray, wgt68)\n",
    "    yolotime += yolo(base)\n",
    "\n",
    "Resized.append(4150)\n",
    "Rdlib5.append(NUM_IMAGES/dlib5time)\n",
    "Rdlib68.append(NUM_IMAGES/dlib68time)\n",
    "Ryolo.append(NUM_IMAGES/yolotime)\n",
    "Rhaar.append(NUM_IMAGES/HAARtime)\n",
    "'''"
   ]
  }
 ],
 "metadata": {
  "kernelspec": {
   "display_name": "Python 3",
   "language": "python",
   "name": "python3"
  },
  "language_info": {
   "codemirror_mode": {
    "name": "ipython",
    "version": 3
   },
   "file_extension": ".py",
   "mimetype": "text/x-python",
   "name": "python",
   "nbconvert_exporter": "python",
   "pygments_lexer": "ipython3",
   "version": "3.7.6"
  }
 },
 "nbformat": 4,
 "nbformat_minor": 4
}
